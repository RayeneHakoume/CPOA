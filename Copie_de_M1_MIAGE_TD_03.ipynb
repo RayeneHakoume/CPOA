{
  "nbformat": 4,
  "nbformat_minor": 0,
  "metadata": {
    "colab": {
      "provenance": [],
      "collapsed_sections": [
        "Y1g4EgT41MqJ"
      ],
      "include_colab_link": true
    },
    "kernelspec": {
      "name": "python3",
      "display_name": "Python 3"
    }
  },
  "cells": [
    {
      "cell_type": "markdown",
      "metadata": {
        "id": "view-in-github",
        "colab_type": "text"
      },
      "source": [
        "<a href=\"https://colab.research.google.com/github/RayeneHakoume/CPOA/blob/main/Copie_de_M1_MIAGE_TD_03.ipynb\" target=\"_parent\"><img src=\"https://colab.research.google.com/assets/colab-badge.svg\" alt=\"Open In Colab\"/></a>"
      ]
    },
    {
      "cell_type": "markdown",
      "metadata": {
        "id": "597Hu82gSNCZ"
      },
      "source": [
        "<img src=\"https://upload.wikimedia.org/wikipedia/fr/0/0b/Polytech_Lyon_logo.png\" alt=\"drawing\" height=\"200\"/>\n",
        "\n",
        "# Algorithmique Avancée & Programmation en Python\n",
        "---\n",
        "\n"
      ]
    },
    {
      "cell_type": "markdown",
      "source": [
        "# TD 03\n",
        "\n",
        "Intro aux traitement de données\n",
        "\n",
        "```python\n",
        "print(\"Hello, friend! It's been a while...\")\n",
        "```\n",
        " \n",
        "Elements à consulter:\n",
        "\n",
        "\n",
        "Doc                                   |             Link\n",
        "--------------------------------------|------------------------------------\n",
        "Python en 30 jours | [>link<](https://moncoachdata.com/courses/apprendre-python-en-30-jours/)\n",
        "Get started with pandas | [>link<](https://colab.research.google.com/notebooks/snippets/pandas.ipynb)"
      ],
      "metadata": {
        "id": "EA-XK862WiMt"
      }
    },
    {
      "cell_type": "markdown",
      "source": [
        "## Intro\n",
        "\n",
        "Le premier bloc devrait toujours contenir les installs/imports dont on aura besoin pour le reste"
      ],
      "metadata": {
        "id": "Y1g4EgT41MqJ"
      }
    },
    {
      "cell_type": "code",
      "source": [
        "# Installs\n",
        "!pip install emoji --quiet"
      ],
      "metadata": {
        "id": "yjiE8c51VoT0",
        "colab": {
          "base_uri": "https://localhost:8080/"
        },
        "outputId": "88029a55-7ea9-4945-f975-2bdea0d2be95"
      },
      "execution_count": null,
      "outputs": [
        {
          "output_type": "stream",
          "name": "stdout",
          "text": [
            "\u001b[?25l\r\u001b[K     |█▍                              | 10 kB 17.8 MB/s eta 0:00:01\r\u001b[K     |██▊                             | 20 kB 7.8 MB/s eta 0:00:01\r\u001b[K     |████                            | 30 kB 10.5 MB/s eta 0:00:01\r\u001b[K     |█████▍                          | 40 kB 4.6 MB/s eta 0:00:01\r\u001b[K     |██████▉                         | 51 kB 4.6 MB/s eta 0:00:01\r\u001b[K     |████████▏                       | 61 kB 5.5 MB/s eta 0:00:01\r\u001b[K     |█████████▌                      | 71 kB 5.9 MB/s eta 0:00:01\r\u001b[K     |██████████▉                     | 81 kB 5.6 MB/s eta 0:00:01\r\u001b[K     |████████████▎                   | 92 kB 6.2 MB/s eta 0:00:01\r\u001b[K     |█████████████▋                  | 102 kB 5.1 MB/s eta 0:00:01\r\u001b[K     |███████████████                 | 112 kB 5.1 MB/s eta 0:00:01\r\u001b[K     |████████████████▎               | 122 kB 5.1 MB/s eta 0:00:01\r\u001b[K     |█████████████████▊              | 133 kB 5.1 MB/s eta 0:00:01\r\u001b[K     |███████████████████             | 143 kB 5.1 MB/s eta 0:00:01\r\u001b[K     |████████████████████▍           | 153 kB 5.1 MB/s eta 0:00:01\r\u001b[K     |█████████████████████▊          | 163 kB 5.1 MB/s eta 0:00:01\r\u001b[K     |███████████████████████▏        | 174 kB 5.1 MB/s eta 0:00:01\r\u001b[K     |████████████████████████▌       | 184 kB 5.1 MB/s eta 0:00:01\r\u001b[K     |█████████████████████████▉      | 194 kB 5.1 MB/s eta 0:00:01\r\u001b[K     |███████████████████████████▏    | 204 kB 5.1 MB/s eta 0:00:01\r\u001b[K     |████████████████████████████▋   | 215 kB 5.1 MB/s eta 0:00:01\r\u001b[K     |██████████████████████████████  | 225 kB 5.1 MB/s eta 0:00:01\r\u001b[K     |███████████████████████████████▎| 235 kB 5.1 MB/s eta 0:00:01\r\u001b[K     |████████████████████████████████| 240 kB 5.1 MB/s \n",
            "\u001b[?25h  Building wheel for emoji (setup.py) ... \u001b[?25l\u001b[?25hdone\n"
          ]
        }
      ]
    },
    {
      "cell_type": "code",
      "source": [
        "# Imports\n",
        "import os\n",
        "import json\n",
        "from random import randint\n",
        "# import pandas as pd\n",
        "# import numpy as np\n",
        "from getpass import getpass\n",
        "import emoji\n",
        "\n",
        "print(emoji.emojize('Python is awesome :thumbs_up:'))"
      ],
      "metadata": {
        "id": "JhT-50uwz72F",
        "colab": {
          "base_uri": "https://localhost:8080/"
        },
        "outputId": "3e6b6a89-5efe-4122-9274-710c2d526432"
      },
      "execution_count": null,
      "outputs": [
        {
          "output_type": "stream",
          "name": "stdout",
          "text": [
            "Python is awesome 👍\n"
          ]
        }
      ]
    },
    {
      "cell_type": "markdown",
      "source": [
        "##EX01\n",
        "### Révision boucles / compréhension de listes\n",
        "\n",
        "Avec l'usage de la boucle `for`, répondez aux questions ci-dessous\n",
        "\n",
        "\n",
        "> PS: Code pris et modifié à partir d'exo sur github"
      ],
      "metadata": {
        "id": "5jpD7nr9NrKR"
      }
    },
    {
      "cell_type": "code",
      "source": [
        "##############################################################\n",
        "nombres = [1, 21, 5, 44, 4, 9, 5, 83, 29, 31, 25, 38]\n",
        "nombres_pairs = []\n",
        "\n",
        "for i in range(len(nombres)):\n",
        "  if(nombres[i] %2 == 0 ):\n",
        "    nombres_pairs.append(nombres[i])\n",
        "print(nombres_pairs)\n",
        "\n",
        "##############################################################\n",
        "\n",
        "nombres = range(-10, 10)\n",
        "nombres_positifs = []\n",
        "\n",
        "for i in range(len(nombres)):\n",
        "  if(nombres[i] >= 0 ):\n",
        "   nombres_positifs.append(nombres[i])\n",
        "print(nombres_positifs)\n",
        "\n",
        "##############################################################\n",
        "\n",
        "nombres = range(5)\n",
        "nombres_x2 = []\n",
        "\n",
        "for i in range(len(nombres)):\n",
        "  \n",
        "  nombres_x2.append(nombres[i]*2)\n",
        "print(nombres_x2)"
      ],
      "metadata": {
        "id": "8p4JXCtEyQBX",
        "outputId": "84082212-113f-47cb-fba5-277e60249116",
        "colab": {
          "base_uri": "https://localhost:8080/"
        }
      },
      "execution_count": null,
      "outputs": [
        {
          "output_type": "stream",
          "name": "stdout",
          "text": [
            "[44, 4, 38]\n",
            "[0, 1, 2, 3, 4, 5, 6, 7, 8, 9]\n",
            "[0, 2, 4, 6, 8]\n"
          ]
        }
      ]
    },
    {
      "cell_type": "markdown",
      "source": [
        "### PART 2\n",
        "Changez le code ci-dessus, et remplacez les blocs `for` par des [compréhensions de listes](https://duckduckgo.com/?q=list+comprehension+python)"
      ],
      "metadata": {
        "id": "BQBEhammPFtE"
      }
    },
    {
      "cell_type": "code",
      "source": [
        "nombres = [1, 21, 5, 44, 4, 9, 5, 83, 29, 31, 25, 38]\n",
        "nombres_pairs = []\n",
        "nombres_pairs = [nombres[i] for i in range(len(nombres)) if nombres[i] % 2 == 0]\n",
        "print(nombres_pairs)\n",
        "##############\n",
        "nombres = range(-10, 10)\n",
        "nombres_positifs = []\n",
        "nombres_positifs = [nombres[i] for i in range(len(nombres)) if nombres[i] >= 0]\n",
        "print(nombres_positifs)\n",
        "#############\n",
        "nombres = range(5)\n",
        "nombres_x2 = []\n",
        "nombres_x2 = [nombres[i]*2 for i in range(len(nombres))]\n",
        "print(nombres_x2)\n",
        "\n",
        "\n",
        "\n",
        "\n",
        "\n"
      ],
      "metadata": {
        "id": "zlMvZFGcPEAG",
        "colab": {
          "base_uri": "https://localhost:8080/"
        },
        "outputId": "4ee4ead3-c8ab-43cf-88df-432c13ab9cb3"
      },
      "execution_count": null,
      "outputs": [
        {
          "output_type": "stream",
          "name": "stdout",
          "text": [
            "[44, 4, 38]\n",
            "[0, 1, 2, 3, 4, 5, 6, 7, 8, 9]\n",
            "[0, 2, 4, 6, 8]\n"
          ]
        }
      ]
    },
    {
      "cell_type": "markdown",
      "source": [
        "##EX02\n",
        "### Les sets\n",
        "\n",
        "  1. Créez un `set` vide et attribuez-le à une variable.\n",
        "  2. Ajoutez trois éléments à votre ensemble vide en utilisant soit plusieurs appels `add`, soit un seul appel de `update`.\n",
        "\n",
        "  3. Créez un deuxième `set` qui comprend au moins un élément commun avec le premier ensemble.\n",
        "\n",
        "  4. Trouvez l’union, la différence et l’intersection des deux `set`. >>\n",
        "Imprimez les résultats de chaque opération.\n",
        "\n",
        "  5. Créez une `set` de nombres en utilisant `range()`, puis demandez à l’utilisateur d’entrer un nombre. Indiquez à l’utilisateur si son nombre se situe ou non dans la plage de valeurs que vous avez spécifiée.\n",
        "\n",
        ">Bonus: \n",
        ">>Indiquer à l’utilisateur si son nombre était trop élevé ou trop bas."
      ],
      "metadata": {
        "id": "cN_XcFu1dG5V"
      }
    },
    {
      "cell_type": "code",
      "source": [
        "from traitlets import Sentinel\n",
        "# Code here\n",
        "\n",
        "\n",
        "###########\n",
        "set01=set()\n",
        "set01.update([\"rami\",\"Master\",\"python\"])\n",
        "print(set01)\n",
        "#######\n",
        "set02=set()\n",
        "set02.update([\"rami\",\"Master\",\"Good\",'Job'])\n",
        "\n",
        "\n",
        "\n",
        "####### l'union\n",
        "setUnion = set01.union(set02)\n",
        "\n",
        "print(setUnion)\n",
        "## la differance\n",
        "setDiff = set01.symmetric_difference(set02)\n",
        "print(setDiff)\n",
        "## L'intersection\n",
        "set03= set01 & set02\n",
        "print(set03)\n",
        "## La Créatuin  d'une set de nombres en utilisant range()\n",
        "setNombre=set(range(7))\n",
        "\n",
        "print(setNombre)\n",
        "\n",
        "nombre = int (input(\"Tapez votre nombre: \"))\n",
        "if (nombre  in setNombre):\n",
        "  \n",
        "  print(\"la valeur \",nombre,\"est dans la liste \")\n",
        " \n",
        "else:\n",
        "  print(\"la valeur \",nombre,\" n'est pas dans la liste \")\n",
        "   \n",
        "\n",
        "\n",
        "\n",
        "\n",
        "\n",
        "\n",
        "\n"
      ],
      "metadata": {
        "id": "yzbCm94SwV6g",
        "colab": {
          "base_uri": "https://localhost:8080/"
        },
        "outputId": "ce3dc774-4dd9-429c-f70e-d010cbe51095"
      },
      "execution_count": null,
      "outputs": [
        {
          "output_type": "stream",
          "name": "stdout",
          "text": [
            "{'rami', 'Master', 'python'}\n",
            "{'Master', 'python', 'rami', 'Good', 'Job'}\n",
            "{'Job', 'python', 'Good'}\n",
            "{'rami', 'Master'}\n",
            "{0, 1, 2, 3, 4, 5, 6}\n",
            "Tapez votre nombre: 5\n",
            "la valeur  5 est dans la list \n"
          ]
        }
      ]
    },
    {
      "cell_type": "markdown",
      "source": [
        "## EX03\n",
        "### Revision listes\n",
        "1. Créez une liste de séries (`binge_watch_list`) contenant un seul tuple. Le tuple doit contenir le titre de la série, la plateforme de streaming (légal), le nombre d'épisodes de la série, l'année de sortie et une note /10.\n",
        "\n",
        "2. Créez une fonction (`input_series`) qui receuil des informations sur d'autres séries à l'aide de la fonction native `input`. Et nous retourne un tuple. \\n\n",
        "Tout les champs sont obligatoires.\n",
        "\n",
        "4. Utilisez `f-string` pour imprimer le nom et l’année de sortie de la série qu'on vient d'input.\n",
        "\n",
        "3. Alimenter la liste (`binge_watch_list`) avec le retour de la fonction (`input_series`) \\n\n",
        "Assurez vous que l'ordre des champs soit le même que dans (`binge_watch_list`).\n",
        "\n",
        "\n",
        "5. Afficher le nom et l’année de sortie de toutes les séries dans `binge_watch_list`.\n",
        "\n",
        "> Bonus:\n",
        "\n",
        "6. Supprimez la série la moins bien noté de `binge_watch_list`. Utilisez la méthode de votre choix."
      ],
      "metadata": {
        "id": "SHsrGdy-5AZK"
      }
    },
    {
      "cell_type": "code",
      "source": [
        "\n",
        "# Code here\n",
        "\n",
        "binge_watch_list=[('casa de papel','netflix',50,2018,5)]\n",
        "print(binge_watch_list)\n",
        "#----------------- la fonction input_serier ---------- \n",
        "#----- Tout les champs sont obligatoires alors si on laisse la case vide on rentre dans une boucle \n",
        "# jusqu'on remlir cette case  \n",
        "\n",
        "def input_series():\n",
        "\n",
        "  nom=input(\"entrez le nom de la serie \")\n",
        "  while (nom==''):\n",
        "    print(\"c'est un choix obligatoire\")\n",
        "    nom=input(\"entrez le nom de la serie \")\n",
        "  \n",
        "  platforme=input(\"entrez la platforme \")\n",
        "  while (platforme==''):\n",
        "    print(\"c'est un choix obligatoire\")\n",
        "    platforme=input(\"entrez la platforme \")\n",
        "    \n",
        "\n",
        "  episode=int(input(\"entrez le nombre d'episodes \"))\n",
        "  while (episode==''):\n",
        "    print(\"c'est un choix obligatoire\")\n",
        "    episode=int(input(\"entrez le nombre d'episodes \"))\n",
        "    \n",
        "\n",
        "  annee=int(input(\"entrez l'annee \"))\n",
        "  while (annee==''):\n",
        "    print(\"c'est un choix obligatoire\")\n",
        "    annee=int(input(\"entrez l'annee \"))\n",
        "    \n",
        "\n",
        "  note=int(input(\"entrez la note \"))\n",
        "  while (note==''):\n",
        "    print(\"c'est un choix obligatoire\")\n",
        "    note=int(input(\"entrez la note \"))\n",
        "## on mets le information de la serie dans un tuple \n",
        "  tup=(nom,platforme,episode,annee,note)\n",
        "# on retourne ce tuple qui contient la nouvelle serie\n",
        "  return tup\n",
        "  \n",
        "######----------fin de la fonction input_series\n",
        "\n",
        "##---- on demande a l'utilisateur d'entrer le nombre des series qu'il veut ajouter \n",
        "ajout=int(input(\"entrez le nombre des series \"))\n",
        "## on fait l'appel a la fonction input_series ajout fois pour ajouter \n",
        "## tout les serie a notre liste initiale\n",
        "\n",
        "for i in range(ajout):\n",
        "    x=input_series()\n",
        "  ## l'alimentation de la liste \n",
        "    binge_watch_list.append(x)\n",
        "print(binge_watch_list)\n",
        "\n",
        "## afficher la dernier serie \n",
        "list2=binge_watch_list[ajout]\n",
        "print(f\"nom:{list2[0]} Platforme: {list2[1]} episode:{list2[2]} annee: {list2[3]} note: {list2[4]}\")\n",
        "\n",
        "##aficher l'annee et la note de toute les series \n",
        "for i in range(ajout):\n",
        "  list3=binge_watch_list[i]\n",
        "  print(f\"l'année de la serie  {list3[0]} est {list3[3]}\")\n",
        "\n",
        "\n",
        "\n",
        "\n",
        "\n",
        "\n",
        "\n",
        "\n",
        "\n",
        "\n",
        "\n",
        "\n",
        "  \n",
        "\n",
        " \n",
        "  \n",
        "\n",
        "\n",
        "\n",
        "\n"
      ],
      "metadata": {
        "id": "jIatRWhm5Xzo",
        "colab": {
          "base_uri": "https://localhost:8080/"
        },
        "outputId": "a226706d-8d51-4181-d9e8-5e9781d4cec7"
      },
      "execution_count": null,
      "outputs": [
        {
          "output_type": "stream",
          "name": "stdout",
          "text": [
            "[('casa de papel', 'netflix', 50, 2018, 5)]\n",
            "entrez le nombre des series 0\n",
            "[('casa de papel', 'netflix', 50, 2018, 5)]\n",
            "nom:casa de papel Platforme: netflix episode:50 annee: 2018 note: 5\n"
          ]
        }
      ]
    },
    {
      "cell_type": "markdown",
      "source": [
        "Transformer le code ci-dessous de liste a dictionnaire"
      ],
      "metadata": {
        "id": "-Zrebyjbxb89"
      }
    },
    {
      "cell_type": "code",
      "source": [],
      "metadata": {
        "id": "wqwmWD1HxfKF"
      },
      "execution_count": null,
      "outputs": []
    },
    {
      "cell_type": "markdown",
      "source": [
        "## EX04\n",
        "### Révision strings / fonctions\n",
        "Implementer deux fonctions `input_password()` & `password_check(x)` qui :\n",
        "\n",
        "1. `input_password()` fait:\n",
        "    * Demande à l'utilisateur un mot de passe d'au moins 8 caractères, 12 c'est mieux.\n",
        "    * retourne ce dernier\n",
        "\n",
        "2. `password_check(x)` verifie:\n",
        "\n",
        "    * print `mot de passe trop court!` **avec une majuscule sur la première lettre** si la longueur du mot de passe entré est `plus petite que 8`.\n",
        "\n",
        "    * Verifier que le mot de passe soit une combinaison de `lettres majuscules, de lettres minuscules, de chiffres et de symboles.` \n",
        "    > Si le mot de passe manque de répondre à une condition, l'afficher à l'utilisateur\n",
        "\n",
        "    *  Afficher la phrase `\"Mot de passe valide.\"` si le mot de passe répond à **toutes les conditions**.\n",
        "\n",
        "> bonus \n",
        "\n",
        "* Verifier qu'un même mot de passe ne peut pas etre saisie deux fois, ex. utiliser une variable `previous_password`"
      ],
      "metadata": {
        "id": "W3BGjEYaf2UQ"
      }
    },
    {
      "cell_type": "code",
      "source": [
        "import getpass\n",
        "import sys\n",
        "# Start from this\n",
        "import re ## on import la bib qui nous permet de chercher dans notre mot de passe \n",
        "def input_password():\n",
        "    password = (\"Enterz mot de passe: \")\n",
        "    return password\n",
        "\n",
        "\n",
        "\n",
        "def password_check(password):\n",
        "  ## Traitement de mot de passe \n",
        "  ## mot \n",
        "    if len(password) < 8:\n",
        "        print(\"Mot de passe trop court! \")\n",
        "    elif not re.search(\"[a-z]\", password):\n",
        "        print(\"mot de passe doit conetnir des lettres minuscules\")\n",
        "    elif not re.search(\"[A-Z]\", password):\n",
        "        print(\"mot de passe doit conetnir des lettres majuscules \")\n",
        "    elif not re.search(\"[0-9]\", password):\n",
        "        print(\"mot de passe doit conetnir des chiffres\")\n",
        "    elif not re.search(\"[_@$]\", password):\n",
        "        print(\"mot de passe doit conetnir des symboles\")\n",
        "    elif re.search(\"\\s\", password):\n",
        "        print(\"Password must not contain any spaces symboles \")\n",
        "    else:\n",
        "        print(\"Mot de passe valide\")\n",
        "\n",
        "Mot_de_passe=getpass.getpass(input_password())\n",
        "\n",
        "password_check(Mot_de_passe)\n",
        "\n"
      ],
      "metadata": {
        "id": "FS2OxAtBf1tB",
        "colab": {
          "base_uri": "https://localhost:8080/"
        },
        "outputId": "51fe9d69-e603-4122-f061-14114a4fd86f"
      },
      "execution_count": null,
      "outputs": [
        {
          "output_type": "stream",
          "name": "stdout",
          "text": [
            "Enterz mot de passe: ··········\n",
            "Mot de passe trop court! \n"
          ]
        }
      ]
    },
    {
      "cell_type": "markdown",
      "source": [
        "## EX05\n",
        "### To do list\n",
        "1. Créez une fonction (`to_do_list()`) qui demande à l'utilisateur de choisir parmis 5 options\n",
        "    1. Ajouter un élément à la to do list\n",
        "    2. Retirer un élément de la to do list\n",
        "    3. Afficher les éléments de la to do list\n",
        "    4. Vider la to do list\n",
        "    5. Quitter le programme\n",
        "2. L'utilisateur doit entrer un nombre (entre 1 et 5) pour choisir l'option souhaité \n",
        "    * Vous devez verifier que l'input est un nombre\n",
        "    * Vous devez verifier que l'input est entre 1 et 5\n",
        "\n",
        "3. Implementez chancune des options de la fonction 😃\n",
        "\n",
        "3. Exemple de run du code ci dessous 👇"
      ],
      "metadata": {
        "id": "nu6wbxZnc2vL"
      }
    },
    {
      "cell_type": "code",
      "source": [
        "list01 = [1,2,3,4]\n",
        "## Ajouter un élément à la to do list\n",
        "def ajoutlist(a,lis):\n",
        "    lis.append(a)\n",
        "    return lis\n",
        "## Retirer un élément de la to do list\n",
        "def suppressionlist(x,list1):\n",
        "    list1.remove(x)\n",
        "    return list1\n",
        "\n",
        "## Afficher les éléments de la to do list\n",
        "def printlist(list1):\n",
        "    print(list1)\n",
        "## Vider la to do list\n",
        "def viderlist(list1):\n",
        "    list1.clear()\n",
        "    return list1\n",
        "## Quitter le programme\n",
        "def quit():\n",
        "    print(\"Au revoir\")\n",
        "    exit()\n",
        "## la fonction to_do_list\n",
        "def to_do_list():\n",
        "  choix=int(input(\"entrez votre choix svp \"))\n",
        "  while(i<0 & i> 6):\n",
        "    ## le nombre doit etre {1,2,3,4,5}\n",
        "    print(\"le choix doit etre entre e et 5 \")\n",
        "    choix=int(input(\"entrez votre choix svp \"))\n",
        "  \n",
        "  if (choix == 1):\n",
        "    valeur = int(input(\"entrez la valeur que vous voulez ajouter \"))\n",
        "    ajoutlist(valeur,list01)## on fait l'appele a la fonction pour ajouter la valeur \n",
        "    printlist(list01) ## on affiche la nouvelle liste \n",
        "  elif (choix == 2):\n",
        "    \n",
        "    valeur = int(input(\"entrez la valeur que vous voulez supprimer \"))\n",
        "    if valeur in list01 :## on verifier si la valeur est dans la liste ou pas \n",
        "      suppressionlist(valeur,list01)## on fait l'appele a la fonction pour supprimer la valeur\n",
        "      printlist(list01) ## ## on affiche la nouvelle liste \n",
        "    print(\"la valeur entré n'est pas dans la liste \")\n",
        "  elif (choix == 3):\n",
        "        printlist(list01) ## on affiche la liste \n",
        "  elif (choix == 4):\n",
        "       viderlist(list01) ## on quite le programme \n",
        "        \n",
        "  else:\n",
        "        quit()\n",
        "  \n",
        "to_do_list()\n",
        "\n",
        "\n",
        "\n",
        "\n",
        "\n"
      ],
      "metadata": {
        "id": "FqgwJj-2USlc",
        "colab": {
          "base_uri": "https://localhost:8080/"
        },
        "outputId": "51baf9a9-5611-4fe9-e477-cdd2e3f6e301"
      },
      "execution_count": null,
      "outputs": [
        {
          "output_type": "stream",
          "name": "stdout",
          "text": [
            "entrez votre choix svp 5\n",
            "Au revoir\n"
          ]
        }
      ]
    },
    {
      "cell_type": "code",
      "source": [
        "##"
      ],
      "metadata": {
        "id": "ixKJ8w3Wvmuq"
      },
      "execution_count": null,
      "outputs": []
    },
    {
      "cell_type": "markdown",
      "source": [
        "# Bonus (Mandatory)\n",
        "\n",
        "\n"
      ],
      "metadata": {
        "id": "XdJvMT9xVoRS"
      }
    },
    {
      "cell_type": "markdown",
      "source": [
        "## Github\n",
        "Pour soumettre votre travail: \n",
        "\n",
        "1.   Commit changes to a branch and push to [github](https://google.com)\n",
        "2.   Create pull request / merge request\n"
      ],
      "metadata": {
        "id": "94-12vgPXG10"
      }
    }
  ]
}